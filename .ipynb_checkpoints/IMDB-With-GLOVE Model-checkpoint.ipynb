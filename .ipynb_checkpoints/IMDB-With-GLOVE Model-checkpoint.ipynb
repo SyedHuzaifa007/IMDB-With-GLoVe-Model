{
 "cells": [
  {
   "cell_type": "code",
   "execution_count": 1,
   "id": "04158c2c",
   "metadata": {},
   "outputs": [],
   "source": [
    "# Importing Libraries And Modules\n",
    "import os\n",
    "import numpy as np\n",
    "import tensorflow as tf                                                 \n",
    "from tensorflow.keras.models import Sequential\n",
    "from tensorflow.keras.layers import Dense, Flatten, Embedding"
   ]
  },
  {
   "cell_type": "markdown",
   "id": "835314b5-feef-4d94-acaf-9b74ff5945a2",
   "metadata": {},
   "source": [
    "##### Processing The Labels of The Raw IMDB Data"
   ]
  },
  {
   "cell_type": "code",
   "execution_count": 2,
   "id": "3bd3f5f3-1ab4-478e-80be-096f9e1c3e8e",
   "metadata": {},
   "outputs": [],
   "source": [
    "imdb_dir = \"/Users/huzaifa/Documents/Datasets/aclImdb\""
   ]
  },
  {
   "cell_type": "code",
   "execution_count": 3,
   "id": "c8a95a64-e177-4556-bd28-d1d62c74ef0b",
   "metadata": {},
   "outputs": [],
   "source": [
    "train_dir = os.path.join(imdb_dir, 'train')"
   ]
  },
  {
   "cell_type": "code",
   "execution_count": 4,
   "id": "fb306c2c-4bb8-4a62-8225-0ead695006c7",
   "metadata": {},
   "outputs": [],
   "source": [
    "labels = []\n",
    "texts = []"
   ]
  },
  {
   "cell_type": "code",
   "execution_count": 5,
   "id": "b0afb9df-26c2-44c3-bfc7-327174b61d68",
   "metadata": {},
   "outputs": [],
   "source": [
    "for label_type in ['neg', 'pos']:\n",
    "    dir_name = os.path.join(train_dir, label_type)\n",
    "    for fname in os.listdir(dir_name):\n",
    "        if fname[-4:] == '.txt':\n",
    "            f = open(os.path.join(dir_name, fname))\n",
    "            texts.append(f.read())\n",
    "            f.close()\n",
    "            if label_type == 'neg':\n",
    "                labels.append(0)\n",
    "            else:\n",
    "                labels.append(1)"
   ]
  },
  {
   "cell_type": "markdown",
   "id": "a22b7526-b60b-4321-a6de-c392399fffea",
   "metadata": {},
   "source": [
    "##### Tokenizing The Text of The Raw IMDB Data"
   ]
  },
  {
   "cell_type": "code",
   "execution_count": 6,
   "id": "a1eb1198-fe12-46e3-afa6-7aa56963fd9b",
   "metadata": {},
   "outputs": [],
   "source": [
    "from tensorflow.keras.preprocessing.text import Tokenizer\n",
    "from keras.preprocessing.sequence import pad_sequences"
   ]
  },
  {
   "cell_type": "code",
   "execution_count": 7,
   "id": "6a3d118a-60a5-4974-83d3-14600aff9e6d",
   "metadata": {},
   "outputs": [],
   "source": [
    "max_len = 100\n",
    "training_samples = 200\n",
    "validation_samples = 10000\n",
    "max_words = 10000"
   ]
  },
  {
   "cell_type": "code",
   "execution_count": 8,
   "id": "c2435cf9-2838-41ae-ba55-be2b78424e4c",
   "metadata": {},
   "outputs": [],
   "source": [
    "tokenizer = Tokenizer(num_words = max_words)\n",
    "tokenizer.fit_on_texts(texts)\n",
    "sequences = tokenizer.texts_to_sequences(texts)"
   ]
  },
  {
   "cell_type": "code",
   "execution_count": 9,
   "id": "ed66d27d-e6fb-471e-940d-24967decb15f",
   "metadata": {},
   "outputs": [
    {
     "name": "stdout",
     "output_type": "stream",
     "text": [
      "Found 88582 unique tokens.\n"
     ]
    }
   ],
   "source": [
    "words_index = tokenizer.word_index\n",
    "print('Found %s unique tokens.' % len(words_index))"
   ]
  },
  {
   "cell_type": "code",
   "execution_count": 10,
   "id": "b8659cb1-522e-4c99-86bd-1a35f065985f",
   "metadata": {},
   "outputs": [],
   "source": [
    "data = pad_sequences(sequences, maxlen = max_len)"
   ]
  },
  {
   "cell_type": "code",
   "execution_count": 11,
   "id": "b7e9b735-3aba-403e-9730-8681eea44ea1",
   "metadata": {},
   "outputs": [
    {
     "name": "stdout",
     "output_type": "stream",
     "text": [
      "Shape of data tensor:  (25000, 100)\n",
      "Shape of label tensor:  (25000,)\n"
     ]
    }
   ],
   "source": [
    "labels = np.asarray(labels)\n",
    "print(\"Shape of data tensor: \", data.shape)\n",
    "print(\"Shape of label tensor: \", labels.shape)"
   ]
  },
  {
   "cell_type": "code",
   "execution_count": 12,
   "id": "204314b1-e8d2-4df2-9282-07b52f7adbb0",
   "metadata": {},
   "outputs": [],
   "source": [
    "indices = np.arange(data.shape[0])\n",
    "np.random.shuffle(indices)\n",
    "data = data[indices]\n",
    "labels = labels[indices]"
   ]
  },
  {
   "cell_type": "code",
   "execution_count": 13,
   "id": "62f9ce3e-11cd-42fe-a60c-a3e18d4e61fd",
   "metadata": {},
   "outputs": [],
   "source": [
    "x_train = data[:training_samples]\n",
    "y_train = labels[:training_samples]\n",
    "x_val = data[training_samples: training_samples + validation_samples]\n",
    "y_val = labels[training_samples: training_samples + validation_samples]"
   ]
  },
  {
   "cell_type": "markdown",
   "id": "5edfbcff-5685-4cdd-8b7d-9e5f0eb9d622",
   "metadata": {},
   "source": [
    "##### Prepairing The GLoVE Word Embeddings File"
   ]
  },
  {
   "cell_type": "code",
   "execution_count": 15,
   "id": "47912df6-c048-4785-aa85-580e0d838428",
   "metadata": {},
   "outputs": [],
   "source": [
    "glove_dir = '/Users/huzaifa/Documents/Datasets/glove'"
   ]
  },
  {
   "cell_type": "code",
   "execution_count": 16,
   "id": "8f8f6894-fe75-4a6b-8db7-f8bc2deff618",
   "metadata": {},
   "outputs": [],
   "source": [
    "embeddings_index = {}\n",
    "f = open(os.path.join(glove_dir, 'glove.6B.100d.txt'))\n",
    "for line in f:\n",
    "    values = line.split()\n",
    "    word = values[0]\n",
    "    coefs = np.asarray(values[1:], dtype = 'float32')\n",
    "    embeddings_index[word] = coefs\n",
    "f.close()"
   ]
  },
  {
   "cell_type": "code",
   "execution_count": 17,
   "id": "f002d6cd-ffc3-486d-a0a0-87ae6f82e249",
   "metadata": {},
   "outputs": [
    {
     "name": "stdout",
     "output_type": "stream",
     "text": [
      "Found 400000 word vectors.\n"
     ]
    }
   ],
   "source": [
    "print(\"Found %s word vectors.\" % len(embeddings_index))"
   ]
  },
  {
   "cell_type": "markdown",
   "id": "b26562ea-73f1-4d3c-89ae-7285399210d2",
   "metadata": {},
   "source": [
    "##### Prepairing The GLoVE Word Embeddings Matrix"
   ]
  },
  {
   "cell_type": "code",
   "execution_count": 19,
   "id": "7fec0eee-de23-49e1-9bd5-80760dbc9d2d",
   "metadata": {},
   "outputs": [],
   "source": [
    "embedding_dim = 100"
   ]
  },
  {
   "cell_type": "code",
   "execution_count": 21,
   "id": "a8c0303c-b660-43a5-a54e-de2d3562bacf",
   "metadata": {},
   "outputs": [],
   "source": [
    "embedding_matrix = np.zeros((max_words, embedding_dim))"
   ]
  },
  {
   "cell_type": "code",
   "execution_count": 27,
   "id": "41fb44bc-cd04-4ff4-8e55-5e1aa6a58555",
   "metadata": {},
   "outputs": [],
   "source": [
    "for word, i in words_index.items():\n",
    "    if i < max_words:\n",
    "        embedding_vector = embeddings_index.get(word)\n",
    "        if embedding_vector is not None:\n",
    "            embedding_matrix[i] = embedding_vector"
   ]
  },
  {
   "cell_type": "markdown",
   "id": "a4c9a616-3c98-4b9a-96de-df73c5748ac3",
   "metadata": {},
   "source": [
    "##### Model Definition"
   ]
  },
  {
   "cell_type": "code",
   "execution_count": 28,
   "id": "7da98cb3-fce9-4dcd-87e2-f10473db231e",
   "metadata": {},
   "outputs": [],
   "source": [
    "from tensorflow.keras.models import Sequential\n",
    "from tensorflow.keras.layers import Embedding, Flatten, Dense"
   ]
  },
  {
   "cell_type": "code",
   "execution_count": 30,
   "id": "cdb366b7-2db1-44c2-a7fe-089c36f5c9e4",
   "metadata": {},
   "outputs": [
    {
     "name": "stdout",
     "output_type": "stream",
     "text": [
      "Model: \"sequential_1\"\n",
      "_________________________________________________________________\n",
      " Layer (type)                Output Shape              Param #   \n",
      "=================================================================\n",
      " embedding (Embedding)       (None, 100, 100)          1000000   \n",
      "                                                                 \n",
      " flatten (Flatten)           (None, 10000)             0         \n",
      "                                                                 \n",
      " dense (Dense)               (None, 32)                320032    \n",
      "                                                                 \n",
      " dense_1 (Dense)             (None, 1)                 33        \n",
      "                                                                 \n",
      "=================================================================\n",
      "Total params: 1,320,065\n",
      "Trainable params: 1,320,065\n",
      "Non-trainable params: 0\n",
      "_________________________________________________________________\n"
     ]
    }
   ],
   "source": [
    "model = Sequential()\n",
    "model.add(Embedding(max_words, embedding_dim, input_length = max_len))\n",
    "model.add(Flatten())\n",
    "model.add(Dense(32, activation = 'relu'))\n",
    "model.add(Dense(1, activation = 'sigmoid'))\n",
    "model.summary()"
   ]
  },
  {
   "cell_type": "markdown",
   "id": "543a30be-7532-4eba-8bd6-ae7fb1f9b17c",
   "metadata": {},
   "source": [
    "##### Loading Pretrained Word Embeddings Into The Embedding Layer"
   ]
  },
  {
   "cell_type": "code",
   "execution_count": 33,
   "id": "122f4b00-dd34-4070-9044-0d73edee3226",
   "metadata": {},
   "outputs": [],
   "source": [
    "model.layers[0].set_weights([embedding_matrix])\n",
    "model.layers[0].trainable = False"
   ]
  },
  {
   "cell_type": "markdown",
   "id": "06fd4f09-2acb-4e34-85ac-b60ff64a02d7",
   "metadata": {},
   "source": [
    "##### Training And Evaluation"
   ]
  },
  {
   "cell_type": "code",
   "execution_count": 34,
   "id": "a7ad7657-4d30-4513-9618-57a38424ab57",
   "metadata": {},
   "outputs": [],
   "source": [
    "model.compile(optimizer = 'rmsprop', loss = 'binary_crossentropy', \n",
    "              metrics = ['acc'])"
   ]
  },
  {
   "cell_type": "code",
   "execution_count": 36,
   "id": "3f440c93-f52f-4200-9f35-bab7a9fdc793",
   "metadata": {},
   "outputs": [
    {
     "name": "stdout",
     "output_type": "stream",
     "text": [
      "Epoch 1/10\n",
      "7/7 [==============================] - 1s 108ms/step - loss: 1.7300 - acc: 0.5650 - val_loss: 0.9280 - val_acc: 0.4993\n",
      "Epoch 2/10\n",
      "7/7 [==============================] - 1s 99ms/step - loss: 0.6246 - acc: 0.6500 - val_loss: 0.6870 - val_acc: 0.5576\n",
      "Epoch 3/10\n",
      "7/7 [==============================] - 1s 140ms/step - loss: 0.4101 - acc: 0.8200 - val_loss: 0.9600 - val_acc: 0.5028\n",
      "Epoch 4/10\n",
      "7/7 [==============================] - 1s 109ms/step - loss: 0.3380 - acc: 0.8850 - val_loss: 0.6983 - val_acc: 0.5535\n",
      "Epoch 5/10\n",
      "7/7 [==============================] - 1s 89ms/step - loss: 0.3448 - acc: 0.8550 - val_loss: 0.9531 - val_acc: 0.5125\n",
      "Epoch 6/10\n",
      "7/7 [==============================] - 1s 97ms/step - loss: 0.2034 - acc: 0.9400 - val_loss: 0.7216 - val_acc: 0.5882\n",
      "Epoch 7/10\n",
      "7/7 [==============================] - 1s 88ms/step - loss: 0.0710 - acc: 0.9900 - val_loss: 0.7938 - val_acc: 0.5768\n",
      "Epoch 8/10\n",
      "7/7 [==============================] - 1s 95ms/step - loss: 0.3089 - acc: 0.8750 - val_loss: 0.7931 - val_acc: 0.5740\n",
      "Epoch 9/10\n",
      "7/7 [==============================] - 1s 147ms/step - loss: 0.0449 - acc: 1.0000 - val_loss: 0.7843 - val_acc: 0.5911\n",
      "Epoch 10/10\n",
      "7/7 [==============================] - 1s 89ms/step - loss: 0.0217 - acc: 1.0000 - val_loss: 1.4647 - val_acc: 0.5104\n"
     ]
    }
   ],
   "source": [
    "history = model.fit(x_train, y_train, epochs = 10, batch_size = 32,\n",
    "                    validation_data = (x_val, y_val))"
   ]
  },
  {
   "cell_type": "code",
   "execution_count": 37,
   "id": "d11d6775-d629-46ef-aa5c-1b99397fc496",
   "metadata": {},
   "outputs": [],
   "source": [
    "model.save_weights('pretrained_glove_model.h5')"
   ]
  },
  {
   "cell_type": "markdown",
   "id": "4d1fb6f2-3fbf-4f38-8fc4-ba5f0306ed3f",
   "metadata": {},
   "source": [
    "##### Plotting The Results"
   ]
  },
  {
   "cell_type": "code",
   "execution_count": 38,
   "id": "f5c69077-ec57-4eef-a365-a916249324e8",
   "metadata": {},
   "outputs": [],
   "source": [
    "import matplotlib.pyplot as plt"
   ]
  },
  {
   "cell_type": "code",
   "execution_count": 39,
   "id": "c5c38ed3-4c53-415d-bdd0-5335e5bba9ad",
   "metadata": {},
   "outputs": [],
   "source": [
    "acc = history.history['acc']\n",
    "val_acc = history.history['val_acc']\n",
    "loss = history.history['loss']\n",
    "val_loss = history.history['val_loss']"
   ]
  },
  {
   "cell_type": "code",
   "execution_count": 40,
   "id": "50f699d9-c8e4-40c3-b370-33d711059f41",
   "metadata": {},
   "outputs": [],
   "source": [
    "epochs = range(1, len(acc) + 1)"
   ]
  },
  {
   "cell_type": "code",
   "execution_count": 41,
   "id": "6abddffc-1d0c-46d1-a933-6ad99738e03e",
   "metadata": {},
   "outputs": [
    {
     "data": {
      "text/plain": [
       "<matplotlib.legend.Legend at 0x7fd846283970>"
      ]
     },
     "execution_count": 41,
     "metadata": {},
     "output_type": "execute_result"
    },
    {
     "data": {
      "image/png": "[encoded data removed]",
      "text/plain": [
       "<Figure size 432x288 with 1 Axes>"
      ]
     },
     "metadata": {
      "needs_background": "light"
     },
     "output_type": "display_data"
    }
   ],
   "source": [
    "plt.plot(epochs, acc, 'bo', label = 'Training Accuracy')\n",
    "plt.plot(epochs, val_loss, 'b', label = 'Validation Accuracy')\n",
    "plt.title(\"Training And Validation Accuracy\")\n",
    "plt.legend()"
   ]
  },
  {
   "cell_type": "code",
   "execution_count": 43,
   "id": "8794dc7f-fff3-417a-bbee-2a7af861f4be",
   "metadata": {},
   "outputs": [
    {
     "data": {
      "image/png": "[encoded data removed]",
      "text/plain": [
       "<Figure size 432x288 with 1 Axes>"
      ]
     },
     "metadata": {
      "needs_background": "light"
     },
     "output_type": "display_data"
    }
   ],
   "source": [
    "plt.plot(epochs, loss, 'bo', label='Training Loss')\n",
    "plt.plot(epochs, val_loss, 'b', label='Validation Loss')\n",
    "plt.title('Training And Validation Loss')\n",
    "plt.legend()\n",
    "plt.show()"
   ]
  },
  {
   "cell_type": "markdown",
   "id": "f9a66bf8-0a68-46e3-9702-0679bc9c475a",
   "metadata": {},
   "source": [
    "##### Training The Same Model Without Pretrained Word Embeddings"
   ]
  },
  {
   "cell_type": "code",
   "execution_count": null,
   "id": "293fc45a-8b6e-4bd8-ad9a-7f0981839199",
   "metadata": {},
   "outputs": [],
   "source": []
  },
  {
   "cell_type": "code",
   "execution_count": null,
   "id": "b344a5ca-d96b-4bed-a929-4320640b456c",
   "metadata": {},
   "outputs": [],
   "source": []
  },
  {
   "cell_type": "code",
   "execution_count": null,
   "id": "4f3d48f5-7829-48e9-bb0b-6330ab7755f6",
   "metadata": {},
   "outputs": [],
   "source": []
  },
  {
   "cell_type": "code",
   "execution_count": null,
   "id": "e4013ba1-f7cf-4047-9e7c-5d33369ee4e0",
   "metadata": {},
   "outputs": [],
   "source": []
  },
  {
   "cell_type": "code",
   "execution_count": null,
   "id": "13dc308b-6ab2-48d4-aaad-d163080b726a",
   "metadata": {},
   "outputs": [],
   "source": []
  }
 ],
 "metadata": {
  "kernelspec": {
   "display_name": "Python 3",
   "language": "python",
   "name": "python3"
  },
  "language_info": {
   "codemirror_mode": {
    "name": "ipython",
    "version": 3
   },
   "file_extension": ".py",
   "mimetype": "text/x-python",
   "name": "python",
   "nbconvert_exporter": "python",
   "pygments_lexer": "ipython3",
   "version": "3.8.8"
  }
 },
 "nbformat": 4,
 "nbformat_minor": 5
}
